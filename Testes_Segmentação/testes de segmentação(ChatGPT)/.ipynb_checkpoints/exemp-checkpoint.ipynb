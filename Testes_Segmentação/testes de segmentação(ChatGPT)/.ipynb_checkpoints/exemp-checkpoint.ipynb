{
 "cells": [
  {
   "cell_type": "code",
   "execution_count": 1,
   "id": "b5c76d4b-2911-4af5-b225-296241dbd1bd",
   "metadata": {},
   "outputs": [],
   "source": [
    "import cv2\n",
    "import numpy as np\n",
    "from sklearn.cluster import KMeans"
   ]
  },
  {
   "cell_type": "code",
   "execution_count": 2,
   "id": "b3aecf92-1bc2-4ac0-b573-6cb503ab9611",
   "metadata": {},
   "outputs": [],
   "source": [
    "# Carrega a imagem\n",
    "img = cv2.imread('image1.jpg')"
   ]
  },
  {
   "cell_type": "code",
   "execution_count": 3,
   "id": "0454e506-10ed-4452-b7cb-d6be1649b6a8",
   "metadata": {},
   "outputs": [],
   "source": [
    "# Redimensiona a imagem para um tamanho menor\n",
    "resized_img = cv2.resize(img, (512, 512))\n",
    "\n",
    "# Converte a imagem para um array de pixels\n",
    "pixel_values = resized_img.reshape((-1,3))"
   ]
  },
  {
   "cell_type": "code",
   "execution_count": 4,
   "id": "e1a079e0-3ae1-47c2-ba8e-e21664b5b61a",
   "metadata": {},
   "outputs": [
    {
     "name": "stderr",
     "output_type": "stream",
     "text": [
      "C:\\Users\\vinicius\\anaconda3\\lib\\site-packages\\sklearn\\cluster\\_kmeans.py:870: FutureWarning: The default value of `n_init` will change from 10 to 'auto' in 1.4. Set the value of `n_init` explicitly to suppress the warning\n",
      "  warnings.warn(\n"
     ]
    }
   ],
   "source": [
    "# Cria o modelo KMeans com 2 clusters\n",
    "kmeans = KMeans(n_clusters=2)\n",
    "\n",
    "# Treina o modelo com os pixels da imagem\n",
    "kmeans.fit(pixel_values)\n",
    "\n",
    "# Separa os pixels em 2 grupos de acordo com os clusters encontrados pelo modelo\n",
    "labels = kmeans.labels_\n",
    "\n",
    "# Cria uma imagem de segmentação com base nos labels dos pixels\n",
    "segmented_img = labels.reshape((resized_img.shape[0], resized_img.shape[1]))"
   ]
  },
  {
   "cell_type": "code",
   "execution_count": 5,
   "id": "452598eb-5112-49e2-bb0b-6cffc228157b",
   "metadata": {},
   "outputs": [
    {
     "ename": "error",
     "evalue": "OpenCV(4.6.0) c:\\b\\abs_d8ltn27ay8\\croot\\opencv-suite_1676452046667\\work\\modules\\highgui\\src\\precomp.hpp:155: error: (-215:Assertion failed) src_depth != CV_16F && src_depth != CV_32S in function 'convertToShow'\n",
     "output_type": "error",
     "traceback": [
      "\u001b[1;31m---------------------------------------------------------------------------\u001b[0m",
      "\u001b[1;31merror\u001b[0m                                     Traceback (most recent call last)",
      "Cell \u001b[1;32mIn[5], line 2\u001b[0m\n\u001b[0;32m      1\u001b[0m \u001b[38;5;66;03m# Mostra a imagem segmentada\u001b[39;00m\n\u001b[1;32m----> 2\u001b[0m \u001b[43mcv2\u001b[49m\u001b[38;5;241;43m.\u001b[39;49m\u001b[43mimshow\u001b[49m\u001b[43m(\u001b[49m\u001b[38;5;124;43m'\u001b[39;49m\u001b[38;5;124;43mImagem Segmentada\u001b[39;49m\u001b[38;5;124;43m'\u001b[39;49m\u001b[43m,\u001b[49m\u001b[43m \u001b[49m\u001b[43msegmented_img\u001b[49m\u001b[43m)\u001b[49m\n\u001b[0;32m      4\u001b[0m \u001b[38;5;66;03m# Aguarda a tecla 'q' para fechar a janela\u001b[39;00m\n\u001b[0;32m      5\u001b[0m cv2\u001b[38;5;241m.\u001b[39mwaitKey(\u001b[38;5;241m0\u001b[39m)\n",
      "\u001b[1;31merror\u001b[0m: OpenCV(4.6.0) c:\\b\\abs_d8ltn27ay8\\croot\\opencv-suite_1676452046667\\work\\modules\\highgui\\src\\precomp.hpp:155: error: (-215:Assertion failed) src_depth != CV_16F && src_depth != CV_32S in function 'convertToShow'\n"
     ]
    }
   ],
   "source": [
    "# Mostra a imagem segmentada\n",
    "cv2.imshow('Imagem Segmentada', segmented_img)\n",
    "\n",
    "# Aguarda a tecla 'q' para fechar a janela\n",
    "cv2.waitKey(0)\n",
    "cv2.destroyAllWindows()"
   ]
  }
 ],
 "metadata": {
  "kernelspec": {
   "display_name": "Python 3 (ipykernel)",
   "language": "python",
   "name": "python3"
  },
  "language_info": {
   "codemirror_mode": {
    "name": "ipython",
    "version": 3
   },
   "file_extension": ".py",
   "mimetype": "text/x-python",
   "name": "python",
   "nbconvert_exporter": "python",
   "pygments_lexer": "ipython3",
   "version": "3.9.16"
  }
 },
 "nbformat": 4,
 "nbformat_minor": 5
}
